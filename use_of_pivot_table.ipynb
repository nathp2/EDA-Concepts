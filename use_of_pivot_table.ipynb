{
  "nbformat": 4,
  "nbformat_minor": 0,
  "metadata": {
    "colab": {
      "name": "use of pivot table.ipynb",
      "provenance": []
    },
    "kernelspec": {
      "name": "python3",
      "display_name": "Python 3"
    },
    "language_info": {
      "name": "python"
    }
  },
  "cells": [
    {
      "cell_type": "markdown",
      "metadata": {
        "id": "Qaadudx3v3g1"
      },
      "source": [
        "Problem statement: Plotting a monthly percentage return heatmap for Banknifty.\n",
        "\n",
        "1. Plotting heatmap with the help of pivot\n",
        "2. Manipulating heatmap according to our need"
      ]
    },
    {
      "cell_type": "code",
      "metadata": {
        "id": "O3A1Tej8Er5f"
      },
      "source": [
        "import numpy as np\n",
        "import pandas as pd\n",
        "import datetime"
      ],
      "execution_count": 194,
      "outputs": []
    },
    {
      "cell_type": "code",
      "metadata": {
        "id": "cq1G6i1PE_Sl"
      },
      "source": [
        "df = pd.read_csv('/content/3131.csv')"
      ],
      "execution_count": 195,
      "outputs": []
    },
    {
      "cell_type": "code",
      "metadata": {
        "colab": {
          "base_uri": "https://localhost:8080/",
          "height": 205
        },
        "id": "6jx076tuFLVh",
        "outputId": "15be66ca-cbb4-4d94-867d-60a204d5c2a1"
      },
      "source": [
        "df.head()"
      ],
      "execution_count": 196,
      "outputs": [
        {
          "output_type": "execute_result",
          "data": {
            "text/html": [
              "<div>\n",
              "<style scoped>\n",
              "    .dataframe tbody tr th:only-of-type {\n",
              "        vertical-align: middle;\n",
              "    }\n",
              "\n",
              "    .dataframe tbody tr th {\n",
              "        vertical-align: top;\n",
              "    }\n",
              "\n",
              "    .dataframe thead th {\n",
              "        text-align: right;\n",
              "    }\n",
              "</style>\n",
              "<table border=\"1\" class=\"dataframe\">\n",
              "  <thead>\n",
              "    <tr style=\"text-align: right;\">\n",
              "      <th></th>\n",
              "      <th>datetime</th>\n",
              "      <th>open</th>\n",
              "      <th>high</th>\n",
              "      <th>low</th>\n",
              "      <th>close</th>\n",
              "      <th>volume</th>\n",
              "    </tr>\n",
              "  </thead>\n",
              "  <tbody>\n",
              "    <tr>\n",
              "      <th>0</th>\n",
              "      <td>2006-01-02</td>\n",
              "      <td>4566.95</td>\n",
              "      <td>4601.35</td>\n",
              "      <td>4542.00</td>\n",
              "      <td>4556.25</td>\n",
              "      <td>0.0</td>\n",
              "    </tr>\n",
              "    <tr>\n",
              "      <th>1</th>\n",
              "      <td>2006-01-03</td>\n",
              "      <td>4531.45</td>\n",
              "      <td>4605.45</td>\n",
              "      <td>4531.45</td>\n",
              "      <td>4600.25</td>\n",
              "      <td>0.0</td>\n",
              "    </tr>\n",
              "    <tr>\n",
              "      <th>2</th>\n",
              "      <td>2006-01-04</td>\n",
              "      <td>4619.55</td>\n",
              "      <td>4707.60</td>\n",
              "      <td>4616.05</td>\n",
              "      <td>4694.14</td>\n",
              "      <td>0.0</td>\n",
              "    </tr>\n",
              "    <tr>\n",
              "      <th>3</th>\n",
              "      <td>2006-01-05</td>\n",
              "      <td>4714.20</td>\n",
              "      <td>4782.64</td>\n",
              "      <td>4670.55</td>\n",
              "      <td>4760.45</td>\n",
              "      <td>0.0</td>\n",
              "    </tr>\n",
              "    <tr>\n",
              "      <th>4</th>\n",
              "      <td>2006-01-06</td>\n",
              "      <td>4767.25</td>\n",
              "      <td>4802.80</td>\n",
              "      <td>4703.10</td>\n",
              "      <td>4755.60</td>\n",
              "      <td>0.0</td>\n",
              "    </tr>\n",
              "  </tbody>\n",
              "</table>\n",
              "</div>"
            ],
            "text/plain": [
              "     datetime     open     high      low    close  volume\n",
              "0  2006-01-02  4566.95  4601.35  4542.00  4556.25     0.0\n",
              "1  2006-01-03  4531.45  4605.45  4531.45  4600.25     0.0\n",
              "2  2006-01-04  4619.55  4707.60  4616.05  4694.14     0.0\n",
              "3  2006-01-05  4714.20  4782.64  4670.55  4760.45     0.0\n",
              "4  2006-01-06  4767.25  4802.80  4703.10  4755.60     0.0"
            ]
          },
          "metadata": {},
          "execution_count": 196
        }
      ]
    },
    {
      "cell_type": "code",
      "metadata": {
        "colab": {
          "base_uri": "https://localhost:8080/",
          "height": 52
        },
        "id": "Zc45Pjl7gE1p",
        "outputId": "ab7923c2-6fc4-4de5-a5ea-d829839fe87d"
      },
      "source": [
        "#standardization of features\n",
        "\n",
        "'''from sklearn.preprocessing import StandardScaler\n",
        "std = StandardScaler()\n",
        "df_std = df['open'].values.reshape(-1,1)\n",
        "df_std = std.fit_transform(df_std)\n",
        "df_std = pd.DataFrame(df_std)\n",
        "df['open'] = df_std'''"
      ],
      "execution_count": 197,
      "outputs": [
        {
          "output_type": "execute_result",
          "data": {
            "application/vnd.google.colaboratory.intrinsic+json": {
              "type": "string"
            },
            "text/plain": [
              "\"from sklearn.preprocessing import StandardScaler\\nstd = StandardScaler()\\ndf_std = df['open'].values.reshape(-1,1)\\ndf_std = std.fit_transform(df_std)\\ndf_std = pd.DataFrame(df_std)\\ndf['open'] = df_std\""
            ]
          },
          "metadata": {},
          "execution_count": 197
        }
      ]
    },
    {
      "cell_type": "code",
      "metadata": {
        "colab": {
          "base_uri": "https://localhost:8080/",
          "height": 34
        },
        "id": "rg4Z5Uzeh9KA",
        "outputId": "a2fd6cf3-799a-447e-bd85-e55ff9e4fa1e"
      },
      "source": [
        "\n",
        "'''df_std2 = df['close'].values.reshape(-1,1)\n",
        "df_std2 = std.fit_transform(df_std2)\n",
        "df_std2 = pd.DataFrame(df_std2)\n",
        "df['close'] = df_std2'''"
      ],
      "execution_count": 198,
      "outputs": [
        {
          "output_type": "execute_result",
          "data": {
            "application/vnd.google.colaboratory.intrinsic+json": {
              "type": "string"
            },
            "text/plain": [
              "\"df_std2 = df['close'].values.reshape(-1,1)\\ndf_std2 = std.fit_transform(df_std2)\\ndf_std2 = pd.DataFrame(df_std2)\\ndf['close'] = df_std2\""
            ]
          },
          "metadata": {},
          "execution_count": 198
        }
      ]
    },
    {
      "cell_type": "code",
      "metadata": {
        "id": "9Bj248btFYhi"
      },
      "source": [
        "df['datetime'] = pd.to_datetime(df['datetime'])\n",
        "df['Month'] = df['datetime'].dt.month"
      ],
      "execution_count": 199,
      "outputs": []
    },
    {
      "cell_type": "code",
      "metadata": {
        "colab": {
          "base_uri": "https://localhost:8080/",
          "height": 205
        },
        "id": "0jTDVi6vH-Cs",
        "outputId": "f043845e-fdc7-4ccf-91eb-29d0804180f0"
      },
      "source": [
        "df.head()"
      ],
      "execution_count": 183,
      "outputs": [
        {
          "output_type": "execute_result",
          "data": {
            "text/html": [
              "<div>\n",
              "<style scoped>\n",
              "    .dataframe tbody tr th:only-of-type {\n",
              "        vertical-align: middle;\n",
              "    }\n",
              "\n",
              "    .dataframe tbody tr th {\n",
              "        vertical-align: top;\n",
              "    }\n",
              "\n",
              "    .dataframe thead th {\n",
              "        text-align: right;\n",
              "    }\n",
              "</style>\n",
              "<table border=\"1\" class=\"dataframe\">\n",
              "  <thead>\n",
              "    <tr style=\"text-align: right;\">\n",
              "      <th></th>\n",
              "      <th>datetime</th>\n",
              "      <th>open</th>\n",
              "      <th>high</th>\n",
              "      <th>low</th>\n",
              "      <th>close</th>\n",
              "      <th>volume</th>\n",
              "      <th>Month</th>\n",
              "    </tr>\n",
              "  </thead>\n",
              "  <tbody>\n",
              "    <tr>\n",
              "      <th>0</th>\n",
              "      <td>2006-01-02</td>\n",
              "      <td>4566.95</td>\n",
              "      <td>4601.35</td>\n",
              "      <td>4542.00</td>\n",
              "      <td>4556.25</td>\n",
              "      <td>0.0</td>\n",
              "      <td>1</td>\n",
              "    </tr>\n",
              "    <tr>\n",
              "      <th>1</th>\n",
              "      <td>2006-01-03</td>\n",
              "      <td>4531.45</td>\n",
              "      <td>4605.45</td>\n",
              "      <td>4531.45</td>\n",
              "      <td>4600.25</td>\n",
              "      <td>0.0</td>\n",
              "      <td>1</td>\n",
              "    </tr>\n",
              "    <tr>\n",
              "      <th>2</th>\n",
              "      <td>2006-01-04</td>\n",
              "      <td>4619.55</td>\n",
              "      <td>4707.60</td>\n",
              "      <td>4616.05</td>\n",
              "      <td>4694.14</td>\n",
              "      <td>0.0</td>\n",
              "      <td>1</td>\n",
              "    </tr>\n",
              "    <tr>\n",
              "      <th>3</th>\n",
              "      <td>2006-01-05</td>\n",
              "      <td>4714.20</td>\n",
              "      <td>4782.64</td>\n",
              "      <td>4670.55</td>\n",
              "      <td>4760.45</td>\n",
              "      <td>0.0</td>\n",
              "      <td>1</td>\n",
              "    </tr>\n",
              "    <tr>\n",
              "      <th>4</th>\n",
              "      <td>2006-01-06</td>\n",
              "      <td>4767.25</td>\n",
              "      <td>4802.80</td>\n",
              "      <td>4703.10</td>\n",
              "      <td>4755.60</td>\n",
              "      <td>0.0</td>\n",
              "      <td>1</td>\n",
              "    </tr>\n",
              "  </tbody>\n",
              "</table>\n",
              "</div>"
            ],
            "text/plain": [
              "    datetime     open     high      low    close  volume  Month\n",
              "0 2006-01-02  4566.95  4601.35  4542.00  4556.25     0.0      1\n",
              "1 2006-01-03  4531.45  4605.45  4531.45  4600.25     0.0      1\n",
              "2 2006-01-04  4619.55  4707.60  4616.05  4694.14     0.0      1\n",
              "3 2006-01-05  4714.20  4782.64  4670.55  4760.45     0.0      1\n",
              "4 2006-01-06  4767.25  4802.80  4703.10  4755.60     0.0      1"
            ]
          },
          "metadata": {},
          "execution_count": 183
        }
      ]
    },
    {
      "cell_type": "code",
      "metadata": {
        "colab": {
          "base_uri": "https://localhost:8080/",
          "height": 205
        },
        "id": "WaN0U99rIBmj",
        "outputId": "0c1e8797-35b3-4ea7-fecd-e194f96542b2"
      },
      "source": [
        "df.tail()"
      ],
      "execution_count": 184,
      "outputs": [
        {
          "output_type": "execute_result",
          "data": {
            "text/html": [
              "<div>\n",
              "<style scoped>\n",
              "    .dataframe tbody tr th:only-of-type {\n",
              "        vertical-align: middle;\n",
              "    }\n",
              "\n",
              "    .dataframe tbody tr th {\n",
              "        vertical-align: top;\n",
              "    }\n",
              "\n",
              "    .dataframe thead th {\n",
              "        text-align: right;\n",
              "    }\n",
              "</style>\n",
              "<table border=\"1\" class=\"dataframe\">\n",
              "  <thead>\n",
              "    <tr style=\"text-align: right;\">\n",
              "      <th></th>\n",
              "      <th>datetime</th>\n",
              "      <th>open</th>\n",
              "      <th>high</th>\n",
              "      <th>low</th>\n",
              "      <th>close</th>\n",
              "      <th>volume</th>\n",
              "      <th>Month</th>\n",
              "    </tr>\n",
              "  </thead>\n",
              "  <tbody>\n",
              "    <tr>\n",
              "      <th>3443</th>\n",
              "      <td>2019-12-18</td>\n",
              "      <td>32292.25</td>\n",
              "      <td>32293.65</td>\n",
              "      <td>32017.30</td>\n",
              "      <td>32244.25</td>\n",
              "      <td>0.0</td>\n",
              "      <td>12</td>\n",
              "    </tr>\n",
              "    <tr>\n",
              "      <th>3444</th>\n",
              "      <td>2019-12-19</td>\n",
              "      <td>32281.65</td>\n",
              "      <td>32328.35</td>\n",
              "      <td>32085.05</td>\n",
              "      <td>32241.45</td>\n",
              "      <td>0.0</td>\n",
              "      <td>12</td>\n",
              "    </tr>\n",
              "    <tr>\n",
              "      <th>3445</th>\n",
              "      <td>2019-12-20</td>\n",
              "      <td>32266.85</td>\n",
              "      <td>32443.35</td>\n",
              "      <td>32199.45</td>\n",
              "      <td>32384.95</td>\n",
              "      <td>0.0</td>\n",
              "      <td>12</td>\n",
              "    </tr>\n",
              "    <tr>\n",
              "      <th>3446</th>\n",
              "      <td>2019-12-23</td>\n",
              "      <td>32381.00</td>\n",
              "      <td>32502.80</td>\n",
              "      <td>32196.85</td>\n",
              "      <td>32339.45</td>\n",
              "      <td>0.0</td>\n",
              "      <td>12</td>\n",
              "    </tr>\n",
              "    <tr>\n",
              "      <th>3447</th>\n",
              "      <td>2019-12-24</td>\n",
              "      <td>32337.80</td>\n",
              "      <td>32390.35</td>\n",
              "      <td>32246.05</td>\n",
              "      <td>32280.75</td>\n",
              "      <td>0.0</td>\n",
              "      <td>12</td>\n",
              "    </tr>\n",
              "  </tbody>\n",
              "</table>\n",
              "</div>"
            ],
            "text/plain": [
              "       datetime      open      high       low     close  volume  Month\n",
              "3443 2019-12-18  32292.25  32293.65  32017.30  32244.25     0.0     12\n",
              "3444 2019-12-19  32281.65  32328.35  32085.05  32241.45     0.0     12\n",
              "3445 2019-12-20  32266.85  32443.35  32199.45  32384.95     0.0     12\n",
              "3446 2019-12-23  32381.00  32502.80  32196.85  32339.45     0.0     12\n",
              "3447 2019-12-24  32337.80  32390.35  32246.05  32280.75     0.0     12"
            ]
          },
          "metadata": {},
          "execution_count": 184
        }
      ]
    },
    {
      "cell_type": "code",
      "metadata": {
        "id": "7SEwdjNHIa5n"
      },
      "source": [
        "df['Year'] = df['datetime'].dt.year"
      ],
      "execution_count": 185,
      "outputs": []
    },
    {
      "cell_type": "code",
      "metadata": {
        "colab": {
          "base_uri": "https://localhost:8080/",
          "height": 205
        },
        "id": "BrYNYlSaJu6C",
        "outputId": "c9a372bf-6810-4bc3-8f08-6078df1a38fc"
      },
      "source": [
        "df.head()"
      ],
      "execution_count": 186,
      "outputs": [
        {
          "output_type": "execute_result",
          "data": {
            "text/html": [
              "<div>\n",
              "<style scoped>\n",
              "    .dataframe tbody tr th:only-of-type {\n",
              "        vertical-align: middle;\n",
              "    }\n",
              "\n",
              "    .dataframe tbody tr th {\n",
              "        vertical-align: top;\n",
              "    }\n",
              "\n",
              "    .dataframe thead th {\n",
              "        text-align: right;\n",
              "    }\n",
              "</style>\n",
              "<table border=\"1\" class=\"dataframe\">\n",
              "  <thead>\n",
              "    <tr style=\"text-align: right;\">\n",
              "      <th></th>\n",
              "      <th>datetime</th>\n",
              "      <th>open</th>\n",
              "      <th>high</th>\n",
              "      <th>low</th>\n",
              "      <th>close</th>\n",
              "      <th>volume</th>\n",
              "      <th>Month</th>\n",
              "      <th>Year</th>\n",
              "    </tr>\n",
              "  </thead>\n",
              "  <tbody>\n",
              "    <tr>\n",
              "      <th>0</th>\n",
              "      <td>2006-01-02</td>\n",
              "      <td>4566.95</td>\n",
              "      <td>4601.35</td>\n",
              "      <td>4542.00</td>\n",
              "      <td>4556.25</td>\n",
              "      <td>0.0</td>\n",
              "      <td>1</td>\n",
              "      <td>2006</td>\n",
              "    </tr>\n",
              "    <tr>\n",
              "      <th>1</th>\n",
              "      <td>2006-01-03</td>\n",
              "      <td>4531.45</td>\n",
              "      <td>4605.45</td>\n",
              "      <td>4531.45</td>\n",
              "      <td>4600.25</td>\n",
              "      <td>0.0</td>\n",
              "      <td>1</td>\n",
              "      <td>2006</td>\n",
              "    </tr>\n",
              "    <tr>\n",
              "      <th>2</th>\n",
              "      <td>2006-01-04</td>\n",
              "      <td>4619.55</td>\n",
              "      <td>4707.60</td>\n",
              "      <td>4616.05</td>\n",
              "      <td>4694.14</td>\n",
              "      <td>0.0</td>\n",
              "      <td>1</td>\n",
              "      <td>2006</td>\n",
              "    </tr>\n",
              "    <tr>\n",
              "      <th>3</th>\n",
              "      <td>2006-01-05</td>\n",
              "      <td>4714.20</td>\n",
              "      <td>4782.64</td>\n",
              "      <td>4670.55</td>\n",
              "      <td>4760.45</td>\n",
              "      <td>0.0</td>\n",
              "      <td>1</td>\n",
              "      <td>2006</td>\n",
              "    </tr>\n",
              "    <tr>\n",
              "      <th>4</th>\n",
              "      <td>2006-01-06</td>\n",
              "      <td>4767.25</td>\n",
              "      <td>4802.80</td>\n",
              "      <td>4703.10</td>\n",
              "      <td>4755.60</td>\n",
              "      <td>0.0</td>\n",
              "      <td>1</td>\n",
              "      <td>2006</td>\n",
              "    </tr>\n",
              "  </tbody>\n",
              "</table>\n",
              "</div>"
            ],
            "text/plain": [
              "    datetime     open     high      low    close  volume  Month  Year\n",
              "0 2006-01-02  4566.95  4601.35  4542.00  4556.25     0.0      1  2006\n",
              "1 2006-01-03  4531.45  4605.45  4531.45  4600.25     0.0      1  2006\n",
              "2 2006-01-04  4619.55  4707.60  4616.05  4694.14     0.0      1  2006\n",
              "3 2006-01-05  4714.20  4782.64  4670.55  4760.45     0.0      1  2006\n",
              "4 2006-01-06  4767.25  4802.80  4703.10  4755.60     0.0      1  2006"
            ]
          },
          "metadata": {},
          "execution_count": 186
        }
      ]
    },
    {
      "cell_type": "code",
      "metadata": {
        "id": "AzPEbfDiJyys"
      },
      "source": [
        "df['MonthlyReturn'] = (df['close'] - df['open'])/df['open']"
      ],
      "execution_count": 187,
      "outputs": []
    },
    {
      "cell_type": "code",
      "metadata": {
        "colab": {
          "base_uri": "https://localhost:8080/",
          "height": 205
        },
        "id": "LGuHM9wLKNNk",
        "outputId": "20e565c2-54a5-4081-8dcb-a0ad492742cd"
      },
      "source": [
        "df.head()"
      ],
      "execution_count": 188,
      "outputs": [
        {
          "output_type": "execute_result",
          "data": {
            "text/html": [
              "<div>\n",
              "<style scoped>\n",
              "    .dataframe tbody tr th:only-of-type {\n",
              "        vertical-align: middle;\n",
              "    }\n",
              "\n",
              "    .dataframe tbody tr th {\n",
              "        vertical-align: top;\n",
              "    }\n",
              "\n",
              "    .dataframe thead th {\n",
              "        text-align: right;\n",
              "    }\n",
              "</style>\n",
              "<table border=\"1\" class=\"dataframe\">\n",
              "  <thead>\n",
              "    <tr style=\"text-align: right;\">\n",
              "      <th></th>\n",
              "      <th>datetime</th>\n",
              "      <th>open</th>\n",
              "      <th>high</th>\n",
              "      <th>low</th>\n",
              "      <th>close</th>\n",
              "      <th>volume</th>\n",
              "      <th>Month</th>\n",
              "      <th>Year</th>\n",
              "      <th>MonthlyReturn</th>\n",
              "    </tr>\n",
              "  </thead>\n",
              "  <tbody>\n",
              "    <tr>\n",
              "      <th>0</th>\n",
              "      <td>2006-01-02</td>\n",
              "      <td>4566.95</td>\n",
              "      <td>4601.35</td>\n",
              "      <td>4542.00</td>\n",
              "      <td>4556.25</td>\n",
              "      <td>0.0</td>\n",
              "      <td>1</td>\n",
              "      <td>2006</td>\n",
              "      <td>-0.002343</td>\n",
              "    </tr>\n",
              "    <tr>\n",
              "      <th>1</th>\n",
              "      <td>2006-01-03</td>\n",
              "      <td>4531.45</td>\n",
              "      <td>4605.45</td>\n",
              "      <td>4531.45</td>\n",
              "      <td>4600.25</td>\n",
              "      <td>0.0</td>\n",
              "      <td>1</td>\n",
              "      <td>2006</td>\n",
              "      <td>0.015183</td>\n",
              "    </tr>\n",
              "    <tr>\n",
              "      <th>2</th>\n",
              "      <td>2006-01-04</td>\n",
              "      <td>4619.55</td>\n",
              "      <td>4707.60</td>\n",
              "      <td>4616.05</td>\n",
              "      <td>4694.14</td>\n",
              "      <td>0.0</td>\n",
              "      <td>1</td>\n",
              "      <td>2006</td>\n",
              "      <td>0.016147</td>\n",
              "    </tr>\n",
              "    <tr>\n",
              "      <th>3</th>\n",
              "      <td>2006-01-05</td>\n",
              "      <td>4714.20</td>\n",
              "      <td>4782.64</td>\n",
              "      <td>4670.55</td>\n",
              "      <td>4760.45</td>\n",
              "      <td>0.0</td>\n",
              "      <td>1</td>\n",
              "      <td>2006</td>\n",
              "      <td>0.009811</td>\n",
              "    </tr>\n",
              "    <tr>\n",
              "      <th>4</th>\n",
              "      <td>2006-01-06</td>\n",
              "      <td>4767.25</td>\n",
              "      <td>4802.80</td>\n",
              "      <td>4703.10</td>\n",
              "      <td>4755.60</td>\n",
              "      <td>0.0</td>\n",
              "      <td>1</td>\n",
              "      <td>2006</td>\n",
              "      <td>-0.002444</td>\n",
              "    </tr>\n",
              "  </tbody>\n",
              "</table>\n",
              "</div>"
            ],
            "text/plain": [
              "    datetime     open     high      low  ...  volume  Month  Year  MonthlyReturn\n",
              "0 2006-01-02  4566.95  4601.35  4542.00  ...     0.0      1  2006      -0.002343\n",
              "1 2006-01-03  4531.45  4605.45  4531.45  ...     0.0      1  2006       0.015183\n",
              "2 2006-01-04  4619.55  4707.60  4616.05  ...     0.0      1  2006       0.016147\n",
              "3 2006-01-05  4714.20  4782.64  4670.55  ...     0.0      1  2006       0.009811\n",
              "4 2006-01-06  4767.25  4802.80  4703.10  ...     0.0      1  2006      -0.002444\n",
              "\n",
              "[5 rows x 9 columns]"
            ]
          },
          "metadata": {},
          "execution_count": 188
        }
      ]
    },
    {
      "cell_type": "code",
      "metadata": {
        "colab": {
          "base_uri": "https://localhost:8080/"
        },
        "id": "mVBqnlvvZBUB",
        "outputId": "3c065066-84db-4f75-c070-2228f12bdf0d"
      },
      "source": [
        "df.MonthlyReturn.unique()"
      ],
      "execution_count": 189,
      "outputs": [
        {
          "output_type": "execute_result",
          "data": {
            "text/plain": [
              "array([-0.00234292,  0.01518278,  0.01614659, ...,  0.0036601 ,\n",
              "       -0.00128316, -0.00176419])"
            ]
          },
          "metadata": {},
          "execution_count": 189
        }
      ]
    },
    {
      "cell_type": "code",
      "metadata": {
        "colab": {
          "base_uri": "https://localhost:8080/"
        },
        "id": "yAjGmlksN8Vn",
        "outputId": "e038a8fa-a6fa-485b-f8e0-f0570923d1b7"
      },
      "source": [
        "df.info()"
      ],
      "execution_count": 190,
      "outputs": [
        {
          "output_type": "stream",
          "name": "stdout",
          "text": [
            "<class 'pandas.core.frame.DataFrame'>\n",
            "RangeIndex: 3448 entries, 0 to 3447\n",
            "Data columns (total 9 columns):\n",
            " #   Column         Non-Null Count  Dtype         \n",
            "---  ------         --------------  -----         \n",
            " 0   datetime       3448 non-null   datetime64[ns]\n",
            " 1   open           3448 non-null   float64       \n",
            " 2   high           3448 non-null   float64       \n",
            " 3   low            3448 non-null   float64       \n",
            " 4   close          3448 non-null   float64       \n",
            " 5   volume         3448 non-null   float64       \n",
            " 6   Month          3448 non-null   int64         \n",
            " 7   Year           3448 non-null   int64         \n",
            " 8   MonthlyReturn  3448 non-null   float64       \n",
            "dtypes: datetime64[ns](1), float64(6), int64(2)\n",
            "memory usage: 242.6 KB\n"
          ]
        }
      ]
    },
    {
      "cell_type": "code",
      "metadata": {
        "id": "Q9i7Fi6dOFyg"
      },
      "source": [
        "df.drop_duplicates(inplace=True)"
      ],
      "execution_count": 191,
      "outputs": []
    },
    {
      "cell_type": "code",
      "metadata": {
        "colab": {
          "base_uri": "https://localhost:8080/"
        },
        "id": "Wi_gxTurOJTU",
        "outputId": "e9ada604-7087-41b9-a07c-afa21503ee24"
      },
      "source": [
        "df.info()"
      ],
      "execution_count": 192,
      "outputs": [
        {
          "output_type": "stream",
          "name": "stdout",
          "text": [
            "<class 'pandas.core.frame.DataFrame'>\n",
            "Int64Index: 3448 entries, 0 to 3447\n",
            "Data columns (total 9 columns):\n",
            " #   Column         Non-Null Count  Dtype         \n",
            "---  ------         --------------  -----         \n",
            " 0   datetime       3448 non-null   datetime64[ns]\n",
            " 1   open           3448 non-null   float64       \n",
            " 2   high           3448 non-null   float64       \n",
            " 3   low            3448 non-null   float64       \n",
            " 4   close          3448 non-null   float64       \n",
            " 5   volume         3448 non-null   float64       \n",
            " 6   Month          3448 non-null   int64         \n",
            " 7   Year           3448 non-null   int64         \n",
            " 8   MonthlyReturn  3448 non-null   float64       \n",
            "dtypes: datetime64[ns](1), float64(6), int64(2)\n",
            "memory usage: 269.4 KB\n"
          ]
        }
      ]
    },
    {
      "cell_type": "code",
      "metadata": {
        "colab": {
          "base_uri": "https://localhost:8080/",
          "height": 459
        },
        "id": "ILNZ56LcKU2p",
        "outputId": "290bc1cf-4000-48c1-c218-a8cce3dc674c"
      },
      "source": [
        "import seaborn as sns\n",
        "import matplotlib.pyplot as plt\n",
        "\n",
        "#refer to below link on using pivot\n",
        "#https://cumsum.wordpress.com/2019/12/28/valueerror-index-contains-duplicate-entries-cannot-reshape/\n",
        "\n",
        "MonthlyR = df.groupby(by=['Year', 'Month']).MonthlyReturn.sum().reset_index()\n",
        "MonthlyR = MonthlyR.pivot_table(index=\"Year\", columns=\"Month\", values=\"MonthlyReturn\")\n",
        "\n",
        "plt.figure(figsize=(15,7))\n",
        "sns.heatmap(MonthlyR,annot=True,cmap=\"RdYlGn\",linewidth=0.3)\n",
        "\n",
        "xticks_labels = ['Jan', 'Feb', 'Mar', 'Apr', 'May', 'Jun',\n",
        "                'Jul', 'Aug', 'Sep', 'Oct', 'Nov', 'Dec']\n",
        "plt.xticks(np.arange(12) + .5, labels=xticks_labels)\n",
        "plt.show"
      ],
      "execution_count": 193,
      "outputs": [
        {
          "output_type": "execute_result",
          "data": {
            "text/plain": [
              "<function matplotlib.pyplot.show>"
            ]
          },
          "metadata": {},
          "execution_count": 193
        },
        {
          "output_type": "display_data",
          "data": {
            "image/png": "[encoded data removed]",
            "text/plain": [
              "<Figure size 1080x504 with 2 Axes>"
            ]
          },
          "metadata": {
            "needs_background": "light"
          }
        }
      ]
    }
  ]
}
