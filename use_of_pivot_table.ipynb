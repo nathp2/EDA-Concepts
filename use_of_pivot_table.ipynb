{
  "nbformat": 4,
  "nbformat_minor": 0,
  "metadata": {
    "colab": {
      "name": "use of pivot table.ipynb",
      "provenance": []
    },
    "kernelspec": {
      "name": "python3",
      "display_name": "Python 3"
    },
    "language_info": {
      "name": "python"
    }
  },
  "cells": [
    {
      "cell_type": "markdown",
      "metadata": {
        "id": "Qaadudx3v3g1"
      },
      "source": [
        "Problem statement: Plotting a monthly percentage return heatmap for Banknifty.\n",
        "\n",
        "1. Plotting heatmap with the help of pivot\n",
        "2. Manupulating heatmap according to our need"
      ]
    },
    {
      "cell_type": "code",
      "metadata": {
        "id": "O3A1Tej8Er5f"
      },
      "source": [
        "import numpy as np\n",
        "import pandas as pd\n",
        "import datetime"
      ],
      "execution_count": 188,
      "outputs": []
    },
    {
      "cell_type": "code",
      "metadata": {
        "id": "cq1G6i1PE_Sl"
      },
      "source": [
        "df = pd.read_csv('/content/3131.csv')"
      ],
      "execution_count": 189,
      "outputs": []
    },
    {
      "cell_type": "code",
      "metadata": {
        "colab": {
          "base_uri": "https://localhost:8080/",
          "height": 203
        },
        "id": "6jx076tuFLVh",
        "outputId": "e8b9ba87-b74c-4a4f-b0d4-52a9d950fd31"
      },
      "source": [
        "df.head()"
      ],
      "execution_count": 190,
      "outputs": [
        {
          "output_type": "execute_result",
          "data": {
            "text/html": [
              "<div>\n",
              "<style scoped>\n",
              "    .dataframe tbody tr th:only-of-type {\n",
              "        vertical-align: middle;\n",
              "    }\n",
              "\n",
              "    .dataframe tbody tr th {\n",
              "        vertical-align: top;\n",
              "    }\n",
              "\n",
              "    .dataframe thead th {\n",
              "        text-align: right;\n",
              "    }\n",
              "</style>\n",
              "<table border=\"1\" class=\"dataframe\">\n",
              "  <thead>\n",
              "    <tr style=\"text-align: right;\">\n",
              "      <th></th>\n",
              "      <th>datetime</th>\n",
              "      <th>open</th>\n",
              "      <th>high</th>\n",
              "      <th>low</th>\n",
              "      <th>close</th>\n",
              "      <th>volume</th>\n",
              "    </tr>\n",
              "  </thead>\n",
              "  <tbody>\n",
              "    <tr>\n",
              "      <th>0</th>\n",
              "      <td>2006-01-02</td>\n",
              "      <td>4566.95</td>\n",
              "      <td>4601.35</td>\n",
              "      <td>4542.00</td>\n",
              "      <td>4556.25</td>\n",
              "      <td>0.0</td>\n",
              "    </tr>\n",
              "    <tr>\n",
              "      <th>1</th>\n",
              "      <td>2006-01-03</td>\n",
              "      <td>4531.45</td>\n",
              "      <td>4605.45</td>\n",
              "      <td>4531.45</td>\n",
              "      <td>4600.25</td>\n",
              "      <td>0.0</td>\n",
              "    </tr>\n",
              "    <tr>\n",
              "      <th>2</th>\n",
              "      <td>2006-01-04</td>\n",
              "      <td>4619.55</td>\n",
              "      <td>4707.60</td>\n",
              "      <td>4616.05</td>\n",
              "      <td>4694.14</td>\n",
              "      <td>0.0</td>\n",
              "    </tr>\n",
              "    <tr>\n",
              "      <th>3</th>\n",
              "      <td>2006-01-05</td>\n",
              "      <td>4714.20</td>\n",
              "      <td>4782.64</td>\n",
              "      <td>4670.55</td>\n",
              "      <td>4760.45</td>\n",
              "      <td>0.0</td>\n",
              "    </tr>\n",
              "    <tr>\n",
              "      <th>4</th>\n",
              "      <td>2006-01-06</td>\n",
              "      <td>4767.25</td>\n",
              "      <td>4802.80</td>\n",
              "      <td>4703.10</td>\n",
              "      <td>4755.60</td>\n",
              "      <td>0.0</td>\n",
              "    </tr>\n",
              "  </tbody>\n",
              "</table>\n",
              "</div>"
            ],
            "text/plain": [
              "     datetime     open     high      low    close  volume\n",
              "0  2006-01-02  4566.95  4601.35  4542.00  4556.25     0.0\n",
              "1  2006-01-03  4531.45  4605.45  4531.45  4600.25     0.0\n",
              "2  2006-01-04  4619.55  4707.60  4616.05  4694.14     0.0\n",
              "3  2006-01-05  4714.20  4782.64  4670.55  4760.45     0.0\n",
              "4  2006-01-06  4767.25  4802.80  4703.10  4755.60     0.0"
            ]
          },
          "metadata": {},
          "execution_count": 190
        }
      ]
    },
    {
      "cell_type": "code",
      "metadata": {
        "id": "9Bj248btFYhi"
      },
      "source": [
        "#extracting month from datatime\n",
        "df['datetime'] = pd.to_datetime(df['datetime'])\n",
        "df['Month'] = df['datetime'].dt.month"
      ],
      "execution_count": 191,
      "outputs": []
    },
    {
      "cell_type": "code",
      "metadata": {
        "colab": {
          "base_uri": "https://localhost:8080/",
          "height": 203
        },
        "id": "0jTDVi6vH-Cs",
        "outputId": "f3b25205-0d4b-4ee1-e664-3dabc4249fb8"
      },
      "source": [
        "df.head()"
      ],
      "execution_count": 192,
      "outputs": [
        {
          "output_type": "execute_result",
          "data": {
            "text/html": [
              "<div>\n",
              "<style scoped>\n",
              "    .dataframe tbody tr th:only-of-type {\n",
              "        vertical-align: middle;\n",
              "    }\n",
              "\n",
              "    .dataframe tbody tr th {\n",
              "        vertical-align: top;\n",
              "    }\n",
              "\n",
              "    .dataframe thead th {\n",
              "        text-align: right;\n",
              "    }\n",
              "</style>\n",
              "<table border=\"1\" class=\"dataframe\">\n",
              "  <thead>\n",
              "    <tr style=\"text-align: right;\">\n",
              "      <th></th>\n",
              "      <th>datetime</th>\n",
              "      <th>open</th>\n",
              "      <th>high</th>\n",
              "      <th>low</th>\n",
              "      <th>close</th>\n",
              "      <th>volume</th>\n",
              "      <th>Month</th>\n",
              "    </tr>\n",
              "  </thead>\n",
              "  <tbody>\n",
              "    <tr>\n",
              "      <th>0</th>\n",
              "      <td>2006-01-02</td>\n",
              "      <td>4566.95</td>\n",
              "      <td>4601.35</td>\n",
              "      <td>4542.00</td>\n",
              "      <td>4556.25</td>\n",
              "      <td>0.0</td>\n",
              "      <td>1</td>\n",
              "    </tr>\n",
              "    <tr>\n",
              "      <th>1</th>\n",
              "      <td>2006-01-03</td>\n",
              "      <td>4531.45</td>\n",
              "      <td>4605.45</td>\n",
              "      <td>4531.45</td>\n",
              "      <td>4600.25</td>\n",
              "      <td>0.0</td>\n",
              "      <td>1</td>\n",
              "    </tr>\n",
              "    <tr>\n",
              "      <th>2</th>\n",
              "      <td>2006-01-04</td>\n",
              "      <td>4619.55</td>\n",
              "      <td>4707.60</td>\n",
              "      <td>4616.05</td>\n",
              "      <td>4694.14</td>\n",
              "      <td>0.0</td>\n",
              "      <td>1</td>\n",
              "    </tr>\n",
              "    <tr>\n",
              "      <th>3</th>\n",
              "      <td>2006-01-05</td>\n",
              "      <td>4714.20</td>\n",
              "      <td>4782.64</td>\n",
              "      <td>4670.55</td>\n",
              "      <td>4760.45</td>\n",
              "      <td>0.0</td>\n",
              "      <td>1</td>\n",
              "    </tr>\n",
              "    <tr>\n",
              "      <th>4</th>\n",
              "      <td>2006-01-06</td>\n",
              "      <td>4767.25</td>\n",
              "      <td>4802.80</td>\n",
              "      <td>4703.10</td>\n",
              "      <td>4755.60</td>\n",
              "      <td>0.0</td>\n",
              "      <td>1</td>\n",
              "    </tr>\n",
              "  </tbody>\n",
              "</table>\n",
              "</div>"
            ],
            "text/plain": [
              "    datetime     open     high      low    close  volume  Month\n",
              "0 2006-01-02  4566.95  4601.35  4542.00  4556.25     0.0      1\n",
              "1 2006-01-03  4531.45  4605.45  4531.45  4600.25     0.0      1\n",
              "2 2006-01-04  4619.55  4707.60  4616.05  4694.14     0.0      1\n",
              "3 2006-01-05  4714.20  4782.64  4670.55  4760.45     0.0      1\n",
              "4 2006-01-06  4767.25  4802.80  4703.10  4755.60     0.0      1"
            ]
          },
          "metadata": {},
          "execution_count": 192
        }
      ]
    },
    {
      "cell_type": "code",
      "metadata": {
        "colab": {
          "base_uri": "https://localhost:8080/",
          "height": 203
        },
        "id": "WaN0U99rIBmj",
        "outputId": "9ecc3187-b4f0-4dc6-a3c0-bcc71ce7e62e"
      },
      "source": [
        "df.tail()"
      ],
      "execution_count": 193,
      "outputs": [
        {
          "output_type": "execute_result",
          "data": {
            "text/html": [
              "<div>\n",
              "<style scoped>\n",
              "    .dataframe tbody tr th:only-of-type {\n",
              "        vertical-align: middle;\n",
              "    }\n",
              "\n",
              "    .dataframe tbody tr th {\n",
              "        vertical-align: top;\n",
              "    }\n",
              "\n",
              "    .dataframe thead th {\n",
              "        text-align: right;\n",
              "    }\n",
              "</style>\n",
              "<table border=\"1\" class=\"dataframe\">\n",
              "  <thead>\n",
              "    <tr style=\"text-align: right;\">\n",
              "      <th></th>\n",
              "      <th>datetime</th>\n",
              "      <th>open</th>\n",
              "      <th>high</th>\n",
              "      <th>low</th>\n",
              "      <th>close</th>\n",
              "      <th>volume</th>\n",
              "      <th>Month</th>\n",
              "    </tr>\n",
              "  </thead>\n",
              "  <tbody>\n",
              "    <tr>\n",
              "      <th>3443</th>\n",
              "      <td>2019-12-18</td>\n",
              "      <td>32292.25</td>\n",
              "      <td>32293.65</td>\n",
              "      <td>32017.30</td>\n",
              "      <td>32244.25</td>\n",
              "      <td>0.0</td>\n",
              "      <td>12</td>\n",
              "    </tr>\n",
              "    <tr>\n",
              "      <th>3444</th>\n",
              "      <td>2019-12-19</td>\n",
              "      <td>32281.65</td>\n",
              "      <td>32328.35</td>\n",
              "      <td>32085.05</td>\n",
              "      <td>32241.45</td>\n",
              "      <td>0.0</td>\n",
              "      <td>12</td>\n",
              "    </tr>\n",
              "    <tr>\n",
              "      <th>3445</th>\n",
              "      <td>2019-12-20</td>\n",
              "      <td>32266.85</td>\n",
              "      <td>32443.35</td>\n",
              "      <td>32199.45</td>\n",
              "      <td>32384.95</td>\n",
              "      <td>0.0</td>\n",
              "      <td>12</td>\n",
              "    </tr>\n",
              "    <tr>\n",
              "      <th>3446</th>\n",
              "      <td>2019-12-23</td>\n",
              "      <td>32381.00</td>\n",
              "      <td>32502.80</td>\n",
              "      <td>32196.85</td>\n",
              "      <td>32339.45</td>\n",
              "      <td>0.0</td>\n",
              "      <td>12</td>\n",
              "    </tr>\n",
              "    <tr>\n",
              "      <th>3447</th>\n",
              "      <td>2019-12-24</td>\n",
              "      <td>32337.80</td>\n",
              "      <td>32390.35</td>\n",
              "      <td>32246.05</td>\n",
              "      <td>32280.75</td>\n",
              "      <td>0.0</td>\n",
              "      <td>12</td>\n",
              "    </tr>\n",
              "  </tbody>\n",
              "</table>\n",
              "</div>"
            ],
            "text/plain": [
              "       datetime      open      high       low     close  volume  Month\n",
              "3443 2019-12-18  32292.25  32293.65  32017.30  32244.25     0.0     12\n",
              "3444 2019-12-19  32281.65  32328.35  32085.05  32241.45     0.0     12\n",
              "3445 2019-12-20  32266.85  32443.35  32199.45  32384.95     0.0     12\n",
              "3446 2019-12-23  32381.00  32502.80  32196.85  32339.45     0.0     12\n",
              "3447 2019-12-24  32337.80  32390.35  32246.05  32280.75     0.0     12"
            ]
          },
          "metadata": {},
          "execution_count": 193
        }
      ]
    },
    {
      "cell_type": "code",
      "metadata": {
        "id": "7SEwdjNHIa5n"
      },
      "source": [
        "#extracting year from datatime\n",
        "df['Year'] = df['datetime'].dt.year"
      ],
      "execution_count": 194,
      "outputs": []
    },
    {
      "cell_type": "code",
      "metadata": {
        "colab": {
          "base_uri": "https://localhost:8080/",
          "height": 203
        },
        "id": "BrYNYlSaJu6C",
        "outputId": "90a85dd8-3f36-4617-c746-b5109569acc6"
      },
      "source": [
        "df.head()"
      ],
      "execution_count": 195,
      "outputs": [
        {
          "output_type": "execute_result",
          "data": {
            "text/html": [
              "<div>\n",
              "<style scoped>\n",
              "    .dataframe tbody tr th:only-of-type {\n",
              "        vertical-align: middle;\n",
              "    }\n",
              "\n",
              "    .dataframe tbody tr th {\n",
              "        vertical-align: top;\n",
              "    }\n",
              "\n",
              "    .dataframe thead th {\n",
              "        text-align: right;\n",
              "    }\n",
              "</style>\n",
              "<table border=\"1\" class=\"dataframe\">\n",
              "  <thead>\n",
              "    <tr style=\"text-align: right;\">\n",
              "      <th></th>\n",
              "      <th>datetime</th>\n",
              "      <th>open</th>\n",
              "      <th>high</th>\n",
              "      <th>low</th>\n",
              "      <th>close</th>\n",
              "      <th>volume</th>\n",
              "      <th>Month</th>\n",
              "      <th>Year</th>\n",
              "    </tr>\n",
              "  </thead>\n",
              "  <tbody>\n",
              "    <tr>\n",
              "      <th>0</th>\n",
              "      <td>2006-01-02</td>\n",
              "      <td>4566.95</td>\n",
              "      <td>4601.35</td>\n",
              "      <td>4542.00</td>\n",
              "      <td>4556.25</td>\n",
              "      <td>0.0</td>\n",
              "      <td>1</td>\n",
              "      <td>2006</td>\n",
              "    </tr>\n",
              "    <tr>\n",
              "      <th>1</th>\n",
              "      <td>2006-01-03</td>\n",
              "      <td>4531.45</td>\n",
              "      <td>4605.45</td>\n",
              "      <td>4531.45</td>\n",
              "      <td>4600.25</td>\n",
              "      <td>0.0</td>\n",
              "      <td>1</td>\n",
              "      <td>2006</td>\n",
              "    </tr>\n",
              "    <tr>\n",
              "      <th>2</th>\n",
              "      <td>2006-01-04</td>\n",
              "      <td>4619.55</td>\n",
              "      <td>4707.60</td>\n",
              "      <td>4616.05</td>\n",
              "      <td>4694.14</td>\n",
              "      <td>0.0</td>\n",
              "      <td>1</td>\n",
              "      <td>2006</td>\n",
              "    </tr>\n",
              "    <tr>\n",
              "      <th>3</th>\n",
              "      <td>2006-01-05</td>\n",
              "      <td>4714.20</td>\n",
              "      <td>4782.64</td>\n",
              "      <td>4670.55</td>\n",
              "      <td>4760.45</td>\n",
              "      <td>0.0</td>\n",
              "      <td>1</td>\n",
              "      <td>2006</td>\n",
              "    </tr>\n",
              "    <tr>\n",
              "      <th>4</th>\n",
              "      <td>2006-01-06</td>\n",
              "      <td>4767.25</td>\n",
              "      <td>4802.80</td>\n",
              "      <td>4703.10</td>\n",
              "      <td>4755.60</td>\n",
              "      <td>0.0</td>\n",
              "      <td>1</td>\n",
              "      <td>2006</td>\n",
              "    </tr>\n",
              "  </tbody>\n",
              "</table>\n",
              "</div>"
            ],
            "text/plain": [
              "    datetime     open     high      low    close  volume  Month  Year\n",
              "0 2006-01-02  4566.95  4601.35  4542.00  4556.25     0.0      1  2006\n",
              "1 2006-01-03  4531.45  4605.45  4531.45  4600.25     0.0      1  2006\n",
              "2 2006-01-04  4619.55  4707.60  4616.05  4694.14     0.0      1  2006\n",
              "3 2006-01-05  4714.20  4782.64  4670.55  4760.45     0.0      1  2006\n",
              "4 2006-01-06  4767.25  4802.80  4703.10  4755.60     0.0      1  2006"
            ]
          },
          "metadata": {},
          "execution_count": 195
        }
      ]
    },
    {
      "cell_type": "code",
      "metadata": {
        "colab": {
          "base_uri": "https://localhost:8080/"
        },
        "id": "BZKpIjU11iBV",
        "outputId": "093056a7-a700-4426-f173-53b551678bd5"
      },
      "source": [
        "df['Month'].unique()"
      ],
      "execution_count": 196,
      "outputs": [
        {
          "output_type": "execute_result",
          "data": {
            "text/plain": [
              "array([ 1,  2,  3,  4,  5,  6,  7,  8,  9, 10, 11, 12])"
            ]
          },
          "metadata": {},
          "execution_count": 196
        }
      ]
    },
    {
      "cell_type": "code",
      "metadata": {
        "colab": {
          "base_uri": "https://localhost:8080/"
        },
        "id": "1ODvgu7k17kh",
        "outputId": "3400be05-7d23-4381-ca6f-7c88b3eb9b73"
      },
      "source": [
        "df['Year'].unique()"
      ],
      "execution_count": 197,
      "outputs": [
        {
          "output_type": "execute_result",
          "data": {
            "text/plain": [
              "array([2006, 2007, 2008, 2009, 2010, 2011, 2012, 2013, 2014, 2015, 2016,\n",
              "       2017, 2018, 2019])"
            ]
          },
          "metadata": {},
          "execution_count": 197
        }
      ]
    },
    {
      "cell_type": "code",
      "metadata": {
        "colab": {
          "base_uri": "https://localhost:8080/"
        },
        "id": "yAjGmlksN8Vn",
        "outputId": "2f9a3b35-524a-4016-ab16-d6eb101fd78a"
      },
      "source": [
        "df.info()"
      ],
      "execution_count": 198,
      "outputs": [
        {
          "output_type": "stream",
          "name": "stdout",
          "text": [
            "<class 'pandas.core.frame.DataFrame'>\n",
            "RangeIndex: 3448 entries, 0 to 3447\n",
            "Data columns (total 8 columns):\n",
            " #   Column    Non-Null Count  Dtype         \n",
            "---  ------    --------------  -----         \n",
            " 0   datetime  3448 non-null   datetime64[ns]\n",
            " 1   open      3448 non-null   float64       \n",
            " 2   high      3448 non-null   float64       \n",
            " 3   low       3448 non-null   float64       \n",
            " 4   close     3448 non-null   float64       \n",
            " 5   volume    3448 non-null   float64       \n",
            " 6   Month     3448 non-null   int64         \n",
            " 7   Year      3448 non-null   int64         \n",
            "dtypes: datetime64[ns](1), float64(5), int64(2)\n",
            "memory usage: 215.6 KB\n"
          ]
        }
      ]
    },
    {
      "cell_type": "code",
      "metadata": {
        "id": "Q9i7Fi6dOFyg"
      },
      "source": [
        "df.drop_duplicates(inplace=True)"
      ],
      "execution_count": 199,
      "outputs": []
    },
    {
      "cell_type": "code",
      "metadata": {
        "colab": {
          "base_uri": "https://localhost:8080/"
        },
        "id": "Wi_gxTurOJTU",
        "outputId": "77b1bd41-b8b3-421c-e15a-0a450e6f00fc"
      },
      "source": [
        "df.info()"
      ],
      "execution_count": 200,
      "outputs": [
        {
          "output_type": "stream",
          "name": "stdout",
          "text": [
            "<class 'pandas.core.frame.DataFrame'>\n",
            "Int64Index: 3448 entries, 0 to 3447\n",
            "Data columns (total 8 columns):\n",
            " #   Column    Non-Null Count  Dtype         \n",
            "---  ------    --------------  -----         \n",
            " 0   datetime  3448 non-null   datetime64[ns]\n",
            " 1   open      3448 non-null   float64       \n",
            " 2   high      3448 non-null   float64       \n",
            " 3   low       3448 non-null   float64       \n",
            " 4   close     3448 non-null   float64       \n",
            " 5   volume    3448 non-null   float64       \n",
            " 6   Month     3448 non-null   int64         \n",
            " 7   Year      3448 non-null   int64         \n",
            "dtypes: datetime64[ns](1), float64(5), int64(2)\n",
            "memory usage: 242.4 KB\n"
          ]
        }
      ]
    },
    {
      "cell_type": "code",
      "metadata": {
        "id": "fR4qhm_vR690"
      },
      "source": [
        "month_open = (df.groupby(['Year','Month']).close.last()'''This will give last value from close column in a month '''- df.groupby(['Year','Month']).open.first()'''This will give first value from open column in a month ''')/df.groupby(['Year','Month']).open.first()\n",
        "\n",
        "#converting to dataframe\n",
        "df_monthR=pd.DataFrame(month_open)"
      ],
      "execution_count": 201,
      "outputs": []
    },
    {
      "cell_type": "code",
      "metadata": {
        "colab": {
          "base_uri": "https://localhost:8080/",
          "height": 447
        },
        "id": "zsKg1TM6i09t",
        "outputId": "5c512734-ee5e-4644-e1c0-8e45673546d3"
      },
      "source": [
        "df_monthR"
      ],
      "execution_count": 202,
      "outputs": [
        {
          "output_type": "execute_result",
          "data": {
            "text/html": [
              "<div>\n",
              "<style scoped>\n",
              "    .dataframe tbody tr th:only-of-type {\n",
              "        vertical-align: middle;\n",
              "    }\n",
              "\n",
              "    .dataframe tbody tr th {\n",
              "        vertical-align: top;\n",
              "    }\n",
              "\n",
              "    .dataframe thead th {\n",
              "        text-align: right;\n",
              "    }\n",
              "</style>\n",
              "<table border=\"1\" class=\"dataframe\">\n",
              "  <thead>\n",
              "    <tr style=\"text-align: right;\">\n",
              "      <th></th>\n",
              "      <th></th>\n",
              "      <th>0</th>\n",
              "    </tr>\n",
              "    <tr>\n",
              "      <th>Year</th>\n",
              "      <th>Month</th>\n",
              "      <th></th>\n",
              "    </tr>\n",
              "  </thead>\n",
              "  <tbody>\n",
              "    <tr>\n",
              "      <th rowspan=\"5\" valign=\"top\">2006</th>\n",
              "      <th>1</th>\n",
              "      <td>0.011091</td>\n",
              "    </tr>\n",
              "    <tr>\n",
              "      <th>2</th>\n",
              "      <td>-0.009357</td>\n",
              "    </tr>\n",
              "    <tr>\n",
              "      <th>3</th>\n",
              "      <td>0.030918</td>\n",
              "    </tr>\n",
              "    <tr>\n",
              "      <th>4</th>\n",
              "      <td>-0.023962</td>\n",
              "    </tr>\n",
              "    <tr>\n",
              "      <th>5</th>\n",
              "      <td>-0.095366</td>\n",
              "    </tr>\n",
              "    <tr>\n",
              "      <th>...</th>\n",
              "      <th>...</th>\n",
              "      <td>...</td>\n",
              "    </tr>\n",
              "    <tr>\n",
              "      <th rowspan=\"5\" valign=\"top\">2019</th>\n",
              "      <th>8</th>\n",
              "      <td>-0.043009</td>\n",
              "    </tr>\n",
              "    <tr>\n",
              "      <th>9</th>\n",
              "      <td>0.068429</td>\n",
              "    </tr>\n",
              "    <tr>\n",
              "      <th>10</th>\n",
              "      <td>0.028745</td>\n",
              "    </tr>\n",
              "    <tr>\n",
              "      <th>11</th>\n",
              "      <td>0.057953</td>\n",
              "    </tr>\n",
              "    <tr>\n",
              "      <th>12</th>\n",
              "      <td>0.008512</td>\n",
              "    </tr>\n",
              "  </tbody>\n",
              "</table>\n",
              "<p>168 rows × 1 columns</p>\n",
              "</div>"
            ],
            "text/plain": [
              "                   0\n",
              "Year Month          \n",
              "2006 1      0.011091\n",
              "     2     -0.009357\n",
              "     3      0.030918\n",
              "     4     -0.023962\n",
              "     5     -0.095366\n",
              "...              ...\n",
              "2019 8     -0.043009\n",
              "     9      0.068429\n",
              "     10     0.028745\n",
              "     11     0.057953\n",
              "     12     0.008512\n",
              "\n",
              "[168 rows x 1 columns]"
            ]
          },
          "metadata": {},
          "execution_count": 202
        }
      ]
    },
    {
      "cell_type": "code",
      "metadata": {
        "id": "O0gz1oZjZa83"
      },
      "source": [
        "#renaming last column of the dataframe\n",
        "df_monthR.rename( columns={0 :'MonthlyReturn'}, inplace=True )"
      ],
      "execution_count": 203,
      "outputs": []
    },
    {
      "cell_type": "code",
      "metadata": {
        "colab": {
          "base_uri": "https://localhost:8080/",
          "height": 447
        },
        "id": "88X2IMx2dEWy",
        "outputId": "aebbd977-b2e9-4b70-a4b0-a1732de8859f"
      },
      "source": [
        "df_monthR"
      ],
      "execution_count": 204,
      "outputs": [
        {
          "output_type": "execute_result",
          "data": {
            "text/html": [
              "<div>\n",
              "<style scoped>\n",
              "    .dataframe tbody tr th:only-of-type {\n",
              "        vertical-align: middle;\n",
              "    }\n",
              "\n",
              "    .dataframe tbody tr th {\n",
              "        vertical-align: top;\n",
              "    }\n",
              "\n",
              "    .dataframe thead th {\n",
              "        text-align: right;\n",
              "    }\n",
              "</style>\n",
              "<table border=\"1\" class=\"dataframe\">\n",
              "  <thead>\n",
              "    <tr style=\"text-align: right;\">\n",
              "      <th></th>\n",
              "      <th></th>\n",
              "      <th>MonthlyReturn</th>\n",
              "    </tr>\n",
              "    <tr>\n",
              "      <th>Year</th>\n",
              "      <th>Month</th>\n",
              "      <th></th>\n",
              "    </tr>\n",
              "  </thead>\n",
              "  <tbody>\n",
              "    <tr>\n",
              "      <th rowspan=\"5\" valign=\"top\">2006</th>\n",
              "      <th>1</th>\n",
              "      <td>0.011091</td>\n",
              "    </tr>\n",
              "    <tr>\n",
              "      <th>2</th>\n",
              "      <td>-0.009357</td>\n",
              "    </tr>\n",
              "    <tr>\n",
              "      <th>3</th>\n",
              "      <td>0.030918</td>\n",
              "    </tr>\n",
              "    <tr>\n",
              "      <th>4</th>\n",
              "      <td>-0.023962</td>\n",
              "    </tr>\n",
              "    <tr>\n",
              "      <th>5</th>\n",
              "      <td>-0.095366</td>\n",
              "    </tr>\n",
              "    <tr>\n",
              "      <th>...</th>\n",
              "      <th>...</th>\n",
              "      <td>...</td>\n",
              "    </tr>\n",
              "    <tr>\n",
              "      <th rowspan=\"5\" valign=\"top\">2019</th>\n",
              "      <th>8</th>\n",
              "      <td>-0.043009</td>\n",
              "    </tr>\n",
              "    <tr>\n",
              "      <th>9</th>\n",
              "      <td>0.068429</td>\n",
              "    </tr>\n",
              "    <tr>\n",
              "      <th>10</th>\n",
              "      <td>0.028745</td>\n",
              "    </tr>\n",
              "    <tr>\n",
              "      <th>11</th>\n",
              "      <td>0.057953</td>\n",
              "    </tr>\n",
              "    <tr>\n",
              "      <th>12</th>\n",
              "      <td>0.008512</td>\n",
              "    </tr>\n",
              "  </tbody>\n",
              "</table>\n",
              "<p>168 rows × 1 columns</p>\n",
              "</div>"
            ],
            "text/plain": [
              "            MonthlyReturn\n",
              "Year Month               \n",
              "2006 1           0.011091\n",
              "     2          -0.009357\n",
              "     3           0.030918\n",
              "     4          -0.023962\n",
              "     5          -0.095366\n",
              "...                   ...\n",
              "2019 8          -0.043009\n",
              "     9           0.068429\n",
              "     10          0.028745\n",
              "     11          0.057953\n",
              "     12          0.008512\n",
              "\n",
              "[168 rows x 1 columns]"
            ]
          },
          "metadata": {},
          "execution_count": 204
        }
      ]
    },
    {
      "cell_type": "code",
      "metadata": {
        "colab": {
          "base_uri": "https://localhost:8080/",
          "height": 417
        },
        "id": "5Ajenml2jNqo",
        "outputId": "5faf2a71-43d3-4c99-f9b0-faf1a4984c86"
      },
      "source": [
        "#rearranging the dataframe\n",
        "MonthlyR = df_monthR.groupby(by=['Year', 'Month']).MonthlyReturn.sum().reset_index()\n",
        "MonthlyR"
      ],
      "execution_count": 205,
      "outputs": [
        {
          "output_type": "execute_result",
          "data": {
            "text/html": [
              "<div>\n",
              "<style scoped>\n",
              "    .dataframe tbody tr th:only-of-type {\n",
              "        vertical-align: middle;\n",
              "    }\n",
              "\n",
              "    .dataframe tbody tr th {\n",
              "        vertical-align: top;\n",
              "    }\n",
              "\n",
              "    .dataframe thead th {\n",
              "        text-align: right;\n",
              "    }\n",
              "</style>\n",
              "<table border=\"1\" class=\"dataframe\">\n",
              "  <thead>\n",
              "    <tr style=\"text-align: right;\">\n",
              "      <th></th>\n",
              "      <th>Year</th>\n",
              "      <th>Month</th>\n",
              "      <th>MonthlyReturn</th>\n",
              "    </tr>\n",
              "  </thead>\n",
              "  <tbody>\n",
              "    <tr>\n",
              "      <th>0</th>\n",
              "      <td>2006</td>\n",
              "      <td>1</td>\n",
              "      <td>0.011091</td>\n",
              "    </tr>\n",
              "    <tr>\n",
              "      <th>1</th>\n",
              "      <td>2006</td>\n",
              "      <td>2</td>\n",
              "      <td>-0.009357</td>\n",
              "    </tr>\n",
              "    <tr>\n",
              "      <th>2</th>\n",
              "      <td>2006</td>\n",
              "      <td>3</td>\n",
              "      <td>0.030918</td>\n",
              "    </tr>\n",
              "    <tr>\n",
              "      <th>3</th>\n",
              "      <td>2006</td>\n",
              "      <td>4</td>\n",
              "      <td>-0.023962</td>\n",
              "    </tr>\n",
              "    <tr>\n",
              "      <th>4</th>\n",
              "      <td>2006</td>\n",
              "      <td>5</td>\n",
              "      <td>-0.095366</td>\n",
              "    </tr>\n",
              "    <tr>\n",
              "      <th>...</th>\n",
              "      <td>...</td>\n",
              "      <td>...</td>\n",
              "      <td>...</td>\n",
              "    </tr>\n",
              "    <tr>\n",
              "      <th>163</th>\n",
              "      <td>2019</td>\n",
              "      <td>8</td>\n",
              "      <td>-0.043009</td>\n",
              "    </tr>\n",
              "    <tr>\n",
              "      <th>164</th>\n",
              "      <td>2019</td>\n",
              "      <td>9</td>\n",
              "      <td>0.068429</td>\n",
              "    </tr>\n",
              "    <tr>\n",
              "      <th>165</th>\n",
              "      <td>2019</td>\n",
              "      <td>10</td>\n",
              "      <td>0.028745</td>\n",
              "    </tr>\n",
              "    <tr>\n",
              "      <th>166</th>\n",
              "      <td>2019</td>\n",
              "      <td>11</td>\n",
              "      <td>0.057953</td>\n",
              "    </tr>\n",
              "    <tr>\n",
              "      <th>167</th>\n",
              "      <td>2019</td>\n",
              "      <td>12</td>\n",
              "      <td>0.008512</td>\n",
              "    </tr>\n",
              "  </tbody>\n",
              "</table>\n",
              "<p>168 rows × 3 columns</p>\n",
              "</div>"
            ],
            "text/plain": [
              "     Year  Month  MonthlyReturn\n",
              "0    2006      1       0.011091\n",
              "1    2006      2      -0.009357\n",
              "2    2006      3       0.030918\n",
              "3    2006      4      -0.023962\n",
              "4    2006      5      -0.095366\n",
              "..    ...    ...            ...\n",
              "163  2019      8      -0.043009\n",
              "164  2019      9       0.068429\n",
              "165  2019     10       0.028745\n",
              "166  2019     11       0.057953\n",
              "167  2019     12       0.008512\n",
              "\n",
              "[168 rows x 3 columns]"
            ]
          },
          "metadata": {},
          "execution_count": 205
        }
      ]
    },
    {
      "cell_type": "code",
      "metadata": {
        "colab": {
          "base_uri": "https://localhost:8080/",
          "height": 462
        },
        "id": "ILNZ56LcKU2p",
        "outputId": "f770abc5-6e08-401f-e26d-f530d18252fe"
      },
      "source": [
        "import seaborn as sns\n",
        "import matplotlib.pyplot as plt\n",
        "\n",
        "#refer to below link on using pivot\n",
        "#https://cumsum.wordpress.com/2019/12/28/valueerror-index-contains-duplicate-entries-cannot-reshape/\n",
        "\n",
        "MonthlyR = df_monthR.groupby(by=['Year', 'Month']).MonthlyReturn.sum().reset_index()\n",
        "\n",
        "#creating pivot table\n",
        "MonthlyR = MonthlyR.pivot_table(index=\"Year\", columns=\"Month\", values=\"MonthlyReturn\")\n",
        "\n",
        "#plotting heatmap\n",
        "plt.figure(figsize=(15,7))\n",
        "sns.heatmap(MonthlyR,annot=True,cmap=\"RdYlGn\",linewidth=0.3)\n",
        "\n",
        "#changing labels of x-axis\n",
        "xticks_labels = ['Jan', 'Feb', 'Mar', 'Apr', 'May', 'Jun',\n",
        "                'Jul', 'Aug', 'Sep', 'Oct', 'Nov', 'Dec']\n",
        "plt.xticks(np.arange(12) + .5, labels=xticks_labels)\n",
        "plt.show"
      ],
      "execution_count": 206,
      "outputs": [
        {
          "output_type": "execute_result",
          "data": {
            "text/plain": [
              "<function matplotlib.pyplot.show>"
            ]
          },
          "metadata": {},
          "execution_count": 206
        },
        {
          "output_type": "display_data",
          "data": {
            "image/png": "[encoded data removed]",
            "text/plain": [
              "<Figure size 1080x504 with 2 Axes>"
            ]
          },
          "metadata": {
            "needs_background": "light"
          }
        }
      ]
    }
  ]
}